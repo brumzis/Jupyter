{
 "cells": [
  {
   "cell_type": "code",
   "execution_count": 1,
   "id": "43c1507d",
   "metadata": {},
   "outputs": [],
   "source": [
    "import yfinance as yf\n",
    "import pandas as pd\n",
    "import numpy as np"
   ]
  },
  {
   "cell_type": "code",
   "execution_count": 2,
   "id": "8291ec5e",
   "metadata": {},
   "outputs": [],
   "source": [
    "def buy_list1(incoming_list):\n",
    "    print(len(incoming_list))\n",
    "    for symbol in incoming_list:\n",
    "        new_sym = yf.Ticker(symbol)\n",
    "        try:\n",
    "            five_year_min = new_sym.history(period='60mo')['Close'].min()\n",
    "            if (len(new_sym.history(period='6mo')) > 5):\n",
    "                current = new_sym.history()['Close'].iloc[-1]\n",
    "                if((current <= (five_year_min * 1.2))):\n",
    "                    print(symbol)\n",
    "        except:\n",
    "            print('there was an issue with ', symbol)"
   ]
  },
  {
   "cell_type": "code",
   "execution_count": 3,
   "id": "08e2196b",
   "metadata": {},
   "outputs": [],
   "source": [
    "def buy_list2(incoming_list):\n",
    "    print(len(incoming_list))\n",
    "    for symbol in incoming_list:\n",
    "        new_sym = yf.Ticker(symbol)\n",
    "        try:\n",
    "            five_year_min = new_sym.history(period='60mo')['Close'].min()\n",
    "            if (len(new_sym.history(period='6mo')) > 30):\n",
    "                one_month = new_sym.history(period='6mo')['Close'].iloc[-30]\n",
    "                current = new_sym.history()['Close'].iloc[-1]\n",
    "                if((current > one_month) & (current <= (five_year_min * 1.2))):\n",
    "                    print(symbol)\n",
    "        except:\n",
    "            print('there was an issue with ', symbol)"
   ]
  },
  {
   "cell_type": "code",
   "execution_count": 4,
   "id": "7119e81a",
   "metadata": {},
   "outputs": [],
   "source": [
    "def buy_list3(incoming_list):\n",
    "    print(len(incoming_list))\n",
    "    for symbol in incoming_list:\n",
    "        new_sym = yf.Ticker(symbol)\n",
    "        try:\n",
    "            five_year_min = new_sym.history(period='60mo')['Close'].min()\n",
    "            if (len(new_sym.history(period='6mo')) > 30):\n",
    "                one_month = new_sym.history(period='6mo')['Close'].iloc[-30]\n",
    "            if (len(new_sym.history(period='6mo')) > 60):\n",
    "                two_months = new_sym.history(period='6mo')['Close'].iloc[-60]\n",
    "            current = new_sym.history()['Close'].iloc[-1]\n",
    "            if((one_month > two_months) & (current > one_month) & (current <= (five_year_min * 1.2))):\n",
    "                print(symbol)\n",
    "        except:\n",
    "            print('there was an issue with ', symbol)"
   ]
  },
  {
   "cell_type": "code",
   "execution_count": 5,
   "id": "a0a21e8e",
   "metadata": {},
   "outputs": [],
   "source": [
    "def buy_list4(incoming_list):\n",
    "    print(len(incoming_list))\n",
    "    for symbol in incoming_list:\n",
    "        new_sym = yf.Ticker(symbol)\n",
    "        try:\n",
    "            five_year_min = new_sym.history(period='60mo')['Close'].min()\n",
    "            if (len(new_sym.history(period='6mo')) > 30):\n",
    "                one_month = new_sym.history(period='6mo')['Close'].iloc[-30]\n",
    "            if (len(new_sym.history(period='6mo')) > 60):\n",
    "                two_months = new_sym.history(period='6mo')['Close'].iloc[-60]\n",
    "            if (len(new_sym.history(period='6mo')) > 90):\n",
    "                three_months = new_sym.history(period='6mo')['Close'].iloc[-90]\n",
    "            current = new_sym.history()['Close'].iloc[-1]\n",
    "            if((current > one_month) & (one_month > two_months) & (two_months > three_months) & (current <= (five_year_min * 1.2))):\n",
    "                print(symbol)\n",
    "        except:\n",
    "            print('there was an issue with ', symbol)"
   ]
  },
  {
   "cell_type": "code",
   "execution_count": 6,
   "id": "8de405a6",
   "metadata": {},
   "outputs": [],
   "source": [
    "def buy_list5(incoming_list):\n",
    "    print('Algorithm has received a list of length:', len(incoming_list))\n",
    "    new_list = []\n",
    "    for symbol in incoming_list:\n",
    "        new_sym = yf.Ticker(symbol)\n",
    "        try:\n",
    "            five_year_min = new_sym.history(period='60mo')['Close'].min()\n",
    "            if (len(new_sym.history(period='6mo')) > 30):\n",
    "                one_month = new_sym.history(period='6mo')['Close'].iloc[-30]\n",
    "            if (len(new_sym.history(period='6mo')) > 60):\n",
    "                two_months = new_sym.history(period='6mo')['Close'].iloc[-60]\n",
    "            if (len(new_sym.history(period='6mo')) > 90):\n",
    "                three_months = new_sym.history(period='6mo')['Close'].iloc[-90]\n",
    "            current = new_sym.history()['Close'].iloc[-1]\n",
    "            if((current > one_month) & (one_month > two_months) & (two_months > three_months) & (current <= (five_year_min * 1.2))):\n",
    "                print(symbol)\n",
    "                new_list.append(symbol)\n",
    "        except:\n",
    "            print('there was an issue with ', symbol)\n",
    "    return(new_list)"
   ]
  },
  {
   "cell_type": "code",
   "execution_count": 7,
   "id": "dcfc6e80",
   "metadata": {},
   "outputs": [],
   "source": [
    "def is_under(incoming_list, number):\n",
    "    new_list = []\n",
    "    print('Algorithm is analyzing: ', len(incoming_list))\n",
    "    for symbol in incoming_list:\n",
    "        new_sym = yf.Ticker(symbol)\n",
    "        current = float(new_sym.history()['Close'].iloc[-1])\n",
    "        if((current <= number)):\n",
    "            new_list.append(symbol)\n",
    "            print(symbol)\n",
    "    print('Algorithm returned: ', len(new_list), ' that met given criteria')\n",
    "    return(new_list)\n"
   ]
  },
  {
   "cell_type": "code",
   "execution_count": 8,
   "id": "51c362ec",
   "metadata": {},
   "outputs": [],
   "source": [
    "def process_csv(file_name):\n",
    "    new_list = []\n",
    "    colnames = ['Column 1']\n",
    "    temp = pd.read_csv(file_name, names=colnames)\n",
    "    temp2 = temp['Column 1'].tolist()\n",
    "    for x in temp2:\n",
    "        new_list.append(x)\n",
    "    return(new_list)"
   ]
  },
  {
   "cell_type": "code",
   "execution_count": 9,
   "id": "f1d470eb",
   "metadata": {},
   "outputs": [],
   "source": [
    "def clean_list(incoming_list):\n",
    "    new_list = []\n",
    "    new_list = incoming_list\n",
    "    print(len(incoming_list))\n",
    "    for symbol in incoming_list:\n",
    "        new_sym = yf.Ticker(symbol)\n",
    "        try:\n",
    "            if (new_sym.info['quoteType'] == 'NONE'):\n",
    "                new_list.remove(symbol)\n",
    "        except:\n",
    "            new_list.remove(symbol)\n",
    "    return(new_list)"
   ]
  },
  {
   "cell_type": "code",
   "execution_count": 10,
   "id": "a9b38364",
   "metadata": {},
   "outputs": [],
   "source": [
    "def clean_list2(incoming_list):\n",
    "    new_list = []\n",
    "    for x in incoming_list:\n",
    "        if (('-' not in x) & ('.' not in x)):\n",
    "            new_list.append(x)\n",
    "    return(new_list)"
   ]
  },
  {
   "cell_type": "code",
   "execution_count": 12,
   "id": "730754fe",
   "metadata": {},
   "outputs": [],
   "source": [
    "colnames = ['Column 1']\n",
    "nyse = pd.read_csv(r'C:\\Users\\brumz\\Python_files\\csv_files\\nyse_updated.csv', names=colnames)\n",
    "nasdaq = pd.read_csv(r'C:\\Users\\brumz\\Python_files\\csv_files\\nasdaq_updated.csv', names=colnames)\n",
    "sp500 = pd.read_csv(r'C:\\Users\\brumz\\Python_files\\csv_files\\sp500_updated.csv', names=colnames)\n",
    "otc = pd.read_csv(r'C:\\Users\\brumz\\Python_files\\csv_files\\otc_updated.csv', names=colnames)"
   ]
  },
  {
   "cell_type": "code",
   "execution_count": 13,
   "id": "249c2a79",
   "metadata": {},
   "outputs": [],
   "source": [
    "nyse_tickers = nyse['Column 1'].tolist()\n",
    "nasdaq_tickers = nasdaq['Column 1'].tolist()\n",
    "sp500_tickers = sp500['Column 1'].tolist()\n",
    "otc_tickers = otc['Column 1'].tolist()"
   ]
  },
  {
   "cell_type": "code",
   "execution_count": 14,
   "id": "c9af5d3a",
   "metadata": {},
   "outputs": [
    {
     "name": "stdout",
     "output_type": "stream",
     "text": [
      "566\n",
      "CCUR\n",
      "FMBL\n",
      "FNBT\n",
      "CYDY\n",
      "ALPIB\n",
      "NASB\n",
      "CBTN\n",
      "ACBM\n",
      "BELP\n",
      "INBC\n",
      "DIMC\n",
      "CNBN\n",
      "ENBP\n",
      "NUVR\n",
      "CPTP\n",
      "HCMC\n",
      "FBTT\n"
     ]
    },
    {
     "name": "stderr",
     "output_type": "stream",
     "text": [
      "AXAS: No data found, symbol may be delisted\n",
      "AXAS: No data found, symbol may be delisted\n"
     ]
    },
    {
     "name": "stdout",
     "output_type": "stream",
     "text": [
      "LQMT\n",
      "MFON\n",
      "LFGP\n",
      "BEBE\n",
      "BSFO\n",
      "NWYF\n",
      "CTUY\n",
      "BCTF\n",
      "LGIQ\n",
      "GNRV\n",
      "KBLB\n",
      "OZSC\n",
      "INFT\n",
      "OSBK\n"
     ]
    },
    {
     "name": "stderr",
     "output_type": "stream",
     "text": [
      "GENH: No data found, symbol may be delisted\n"
     ]
    },
    {
     "name": "stdout",
     "output_type": "stream",
     "text": [
      "CNAF\n"
     ]
    },
    {
     "name": "stderr",
     "output_type": "stream",
     "text": [
      "GENH: No data found, symbol may be delisted\n"
     ]
    },
    {
     "name": "stdout",
     "output_type": "stream",
     "text": [
      "FBPA\n"
     ]
    },
    {
     "name": "stderr",
     "output_type": "stream",
     "text": [
      "CCGN: No data found, symbol may be delisted\n",
      "CCGN: No data found, symbol may be delisted\n"
     ]
    },
    {
     "name": "stdout",
     "output_type": "stream",
     "text": [
      "MNBP\n",
      "PBIO\n",
      "ALID\n",
      "LIVC\n",
      "RGRX\n",
      "PWCO\n"
     ]
    },
    {
     "name": "stderr",
     "output_type": "stream",
     "text": [
      "SSFT: No data found, symbol may be delisted\n",
      "SSFT: No data found, symbol may be delisted\n"
     ]
    },
    {
     "name": "stdout",
     "output_type": "stream",
     "text": [
      "CURR\n",
      "GTHP\n",
      "ALTD\n",
      "GSPE\n",
      "KGKG\n",
      "ICNB\n",
      "ADMQ\n",
      "MITI\n",
      "GBLX\n",
      "AMMX\n",
      "CVSI\n",
      "MICR\n",
      "KBPH\n",
      "TOFB\n",
      "UCLE\n",
      "MCOA\n",
      "GWTI\n",
      "MDCN\n",
      "ATAO\n",
      "ILAL\n",
      "GTEH\n",
      "NUGS\n",
      "ALYI\n",
      "IGEN\n",
      "BRSF\n",
      "CAPC\n"
     ]
    },
    {
     "name": "stderr",
     "output_type": "stream",
     "text": [
      "ZMWYF: No price data found, symbol may be delisted (period=1mo)\n"
     ]
    },
    {
     "name": "stdout",
     "output_type": "stream",
     "text": [
      "there was an issue with  ZMWYF\n",
      "CBDS\n",
      "FLES\n",
      "UNIR\n",
      "EWLL\n",
      "MJHI\n",
      "SMME\n",
      "SYSX\n",
      "EMED\n"
     ]
    },
    {
     "name": "stderr",
     "output_type": "stream",
     "text": [
      "QBAN: No data found, symbol may be delisted\n",
      "QBAN: No data found, symbol may be delisted\n"
     ]
    },
    {
     "name": "stdout",
     "output_type": "stream",
     "text": [
      "RRIF\n",
      "PHOT\n",
      "KAYS\n",
      "AMNL\n",
      "CCTL\n",
      "DPWW\n",
      "AMCT\n",
      "ABMC\n",
      "RSPI\n",
      "VRUS\n",
      "MSTO\n",
      "DGWR\n",
      "WINR\n",
      "CCOB\n",
      "BEGI\n",
      "SAML\n",
      "EXEO\n",
      "GWSN\n",
      "CGLO\n",
      "UMHL\n",
      "GSPH\n",
      "TAUG\n",
      "BTIM\n",
      "LFER\n",
      "MYHI\n",
      "GRYN\n",
      "EQUR\n",
      "ACCA\n",
      "SCOO\n",
      "BIIO\n",
      "FLSS\n",
      "CDXI\n",
      "ZCSH\n",
      "GMGT\n"
     ]
    }
   ],
   "source": [
    "buy_list1(otc_tickers)"
   ]
  },
  {
   "cell_type": "code",
   "execution_count": null,
   "id": "90690859",
   "metadata": {},
   "outputs": [],
   "source": []
  }
 ],
 "metadata": {
  "kernelspec": {
   "display_name": "Python 3 (ipykernel)",
   "language": "python",
   "name": "python3"
  },
  "language_info": {
   "codemirror_mode": {
    "name": "ipython",
    "version": 3
   },
   "file_extension": ".py",
   "mimetype": "text/x-python",
   "name": "python",
   "nbconvert_exporter": "python",
   "pygments_lexer": "ipython3",
   "version": "3.11.3"
  }
 },
 "nbformat": 4,
 "nbformat_minor": 5
}
